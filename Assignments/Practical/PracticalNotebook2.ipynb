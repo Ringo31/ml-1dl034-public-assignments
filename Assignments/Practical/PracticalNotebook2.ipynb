{
 "cells": [
  {
   "cell_type": "markdown",
   "metadata": {
    "id": "eTrDfRyQERZF"
   },
   "source": [
    "# Practical Notebook 2"
   ]
  },
  {
   "cell_type": "markdown",
   "metadata": {
    "id": "El_-ziva0AJK"
   },
   "source": [
    "## Pandas"
   ]
  },
  {
   "cell_type": "markdown",
   "metadata": {
    "id": "bLCRpCwBmJXW"
   },
   "source": [
    "In this course, we will use pandas to import the data into DataFrame objects.   \n",
    "Pandas is a commonly used library working with and manipulating data in various formats, such as txt, csv, excel format, and more.  \n",
    "\n",
    "You can read more about pandas [here](https://pandas.pydata.org/), or by searching online."
   ]
  },
  {
   "cell_type": "code",
   "execution_count": 6,
   "metadata": {
    "id": "Q9MCB5x5finy"
   },
   "outputs": [],
   "source": [
    "# The first thing we need to do is to import pandas\n",
    "import pandas as pd\n",
    "\n",
    "# We will aslo change how the floating point numbers are displayed\n",
    "pd.set_option(\"display.float_format\", lambda x: f\"{x:.5f}\")"
   ]
  },
  {
   "cell_type": "markdown",
   "metadata": {
    "id": "0mNrH639zPD8"
   },
   "source": [
    "### Creating our own dataset to file"
   ]
  },
  {
   "cell_type": "markdown",
   "metadata": {
    "id": "qJ5E9YdJgG4i"
   },
   "source": [
    "We will start by creating our own data set, but later on we will import the data from a file."
   ]
  },
  {
   "cell_type": "code",
   "execution_count": 7,
   "metadata": {
    "id": "nuvD_kRRgK_5"
   },
   "outputs": [],
   "source": [
    "names = ['Alice', 'Bob', 'Charlie']\n",
    "animals = ['Dog', 'Cat', None]\n",
    "age = [27, 12, 43]\n",
    "sex = ['Female', 'Male', 'Male']"
   ]
  },
  {
   "cell_type": "markdown",
   "metadata": {
    "id": "LNPBybFlgNSx"
   },
   "source": [
    "We will then merge the lists together using the *zip* function."
   ]
  },
  {
   "cell_type": "code",
   "execution_count": 8,
   "metadata": {
    "colab": {
     "base_uri": "https://localhost:8080/"
    },
    "id": "pdYdzCf9gPMj",
    "outputId": "8c695e75-d714-48e2-aa68-88bbe7740138"
   },
   "outputs": [
    {
     "name": "stdout",
     "output_type": "stream",
     "text": [
      "[('Alice', 'Dog', 27, 'Female'), ('Bob', 'Cat', 12, 'Male'), ('Charlie', None, 43, 'Male')]\n"
     ]
    }
   ],
   "source": [
    "people = list(zip(names, animals, age, sex))\n",
    "print(people)"
   ]
  },
  {
   "cell_type": "markdown",
   "metadata": {
    "id": "yI4ZQvclgYDG"
   },
   "source": [
    "Now we can make our merged list into a DataFrame object by using pandas."
   ]
  },
  {
   "cell_type": "code",
   "execution_count": 9,
   "metadata": {
    "colab": {
     "base_uri": "https://localhost:8080/"
    },
    "id": "f95I9vH1gZCz",
    "outputId": "adf73d09-593b-4811-b93a-6504ebb273fa"
   },
   "outputs": [
    {
     "name": "stdout",
     "output_type": "stream",
     "text": [
      "     Names Animals  Age     Sex\n",
      "0    Alice     Dog   27  Female\n",
      "1      Bob     Cat   12    Male\n",
      "2  Charlie    None   43    Male\n"
     ]
    }
   ],
   "source": [
    "df = pd.DataFrame(data=people, columns=['Names','Animals','Age','Sex'])\n",
    "print(df)"
   ]
  },
  {
   "cell_type": "markdown",
   "metadata": {
    "id": "o1Qjvhs_gbKc"
   },
   "source": [
    "You can also export the dataframe to a csv file, where we use the function *to_csv* to export the file. You will find the file you created in the folder you are in. (In colab you will find the folder to the left.)\n",
    "The index parameter is set to *False*, i.e. we won't write the row names to the new file (in this case the row names are *0, 1, 2*). The header parameter is set to *True*, i.e. we will write the column names to the file (in this case the column names are *Names*, *Animals*, *Age*, *Sex*).\n",
    "You can change these parameters yourself to see the difference."
   ]
  },
  {
   "cell_type": "code",
   "execution_count": 10,
   "metadata": {
    "id": "n-meveyygeiL"
   },
   "outputs": [],
   "source": [
    "df.to_csv('test_people.csv', index=False, header=True)"
   ]
  },
  {
   "cell_type": "markdown",
   "metadata": {
    "id": "wndKj8qyzXt6"
   },
   "source": [
    "### Read a dataset from file"
   ]
  },
  {
   "cell_type": "markdown",
   "metadata": {
    "id": "RsxduPJmgfPE"
   },
   "source": [
    "To read the data from a csv file we will use the function *read_csv*."
   ]
  },
  {
   "cell_type": "code",
   "execution_count": 11,
   "metadata": {
    "colab": {
     "base_uri": "https://localhost:8080/"
    },
    "id": "SZ0-SBYhgkBl",
    "outputId": "b8cdfcb4-d2b1-4a86-973e-3c9221a05785"
   },
   "outputs": [
    {
     "name": "stdout",
     "output_type": "stream",
     "text": [
      "     Names Animals  Age     Sex\n",
      "0    Alice     Dog   27  Female\n",
      "1      Bob     Cat   12    Male\n",
      "2  Charlie     NaN   43    Male\n"
     ]
    }
   ],
   "source": [
    "df = pd.read_csv('test_people.csv')\n",
    "print(df)"
   ]
  },
  {
   "cell_type": "markdown",
   "metadata": {
    "id": "qpsS-O9rgktf"
   },
   "source": [
    "We can inspect the numerical values in the data using the function describe."
   ]
  },
  {
   "cell_type": "code",
   "execution_count": 12,
   "metadata": {
    "colab": {
     "base_uri": "https://localhost:8080/"
    },
    "id": "NzjtCzFWgq54",
    "outputId": "c581c580-0a50-411b-c162-e871527ec44d"
   },
   "outputs": [
    {
     "name": "stdout",
     "output_type": "stream",
     "text": [
      "           Age\n",
      "count  3.00000\n",
      "mean  27.33333\n",
      "std   15.50269\n",
      "min   12.00000\n",
      "25%   19.50000\n",
      "50%   27.00000\n",
      "75%   35.00000\n",
      "max   43.00000\n"
     ]
    }
   ],
   "source": [
    "print(df.describe())"
   ]
  },
  {
   "cell_type": "markdown",
   "metadata": {
    "id": "znST7y3Egxsc"
   },
   "source": [
    "And look at one specific column by using the names of the header."
   ]
  },
  {
   "cell_type": "code",
   "execution_count": 13,
   "metadata": {
    "colab": {
     "base_uri": "https://localhost:8080/"
    },
    "id": "NQpIs2Etgyhg",
    "outputId": "351aa6ca-c6c5-4e6a-c9b8-048dc5bb7409"
   },
   "outputs": [
    {
     "name": "stdout",
     "output_type": "stream",
     "text": [
      "Here you will see the names: \n",
      "0      Alice\n",
      "1        Bob\n",
      "2    Charlie\n",
      "Name: Names, dtype: object\n",
      "\n",
      "Here you will see the animals: \n",
      "0    Dog\n",
      "1    Cat\n",
      "2    NaN\n",
      "Name: Animals, dtype: object\n",
      "\n",
      "Here you will see the ages: \n",
      "0    27\n",
      "1    12\n",
      "2    43\n",
      "Name: Age, dtype: int64\n",
      "\n",
      "Here you will see the sex: \n",
      "0    Female\n",
      "1      Male\n",
      "2      Male\n",
      "Name: Sex, dtype: object\n"
     ]
    }
   ],
   "source": [
    "print(f\"Here you will see the names: \\n{df['Names']}\")\n",
    "print(f\"\\nHere you will see the animals: \\n{df['Animals']}\")\n",
    "print(f\"\\nHere you will see the ages: \\n{df['Age']}\")\n",
    "print(f\"\\nHere you will see the sex: \\n{df['Sex']}\")"
   ]
  },
  {
   "cell_type": "markdown",
   "metadata": {
    "id": "vihv3StzhfDh"
   },
   "source": [
    "You can also divide the groups into females and males."
   ]
  },
  {
   "cell_type": "code",
   "execution_count": 14,
   "metadata": {
    "colab": {
     "base_uri": "https://localhost:8080/"
    },
    "id": "wjYeLhaJhf9g",
    "outputId": "1799304c-675f-421a-b5f6-f62633f1ea0b"
   },
   "outputs": [
    {
     "name": "stdout",
     "output_type": "stream",
     "text": [
      "Here we have 2 male(s) and 1 female(s).\n"
     ]
    }
   ],
   "source": [
    "male, female = df['Sex'].value_counts()\n",
    "print(f\"Here we have {male} male(s) and {female} female(s).\")"
   ]
  },
  {
   "cell_type": "markdown",
   "metadata": {
    "id": "--S5ieFPhj2y"
   },
   "source": [
    "By looking only at one column, as we did before, we can find some interesting data about it as well."
   ]
  },
  {
   "cell_type": "code",
   "execution_count": 15,
   "metadata": {
    "colab": {
     "base_uri": "https://localhost:8080/"
    },
    "id": "0mj5jLlphlpC",
    "outputId": "d84292f8-9a68-46cc-8e6d-5e8f67d5428b"
   },
   "outputs": [
    {
     "name": "stdout",
     "output_type": "stream",
     "text": [
      "mean: 27.33\n",
      "std: 15.50\n"
     ]
    }
   ],
   "source": [
    "# finding the mean value of the ages (with 2 decimals)\n",
    "print(f\"mean: {df['Age'].mean():.2f}\")\n",
    "# and the standard deviation (with 2 decimals)\n",
    "print(f\"std: {df['Age'].std():.2f}\")"
   ]
  },
  {
   "cell_type": "markdown",
   "metadata": {
    "id": "TE7piMNGQWct"
   },
   "source": [
    "### Titanic"
   ]
  },
  {
   "cell_type": "markdown",
   "metadata": {
    "id": "2azINX-Lhwwi"
   },
   "source": [
    "Now we will download and use a larger dataset, to get a better understanding about the pandas library. The dataset contains passenger data from Titanic, and later on we will predict \"what sort of people were most likely to survive?\". The passenger data has 7 features: Name, Sex, Socio-economic class, Siblings/Spouses Aboard, Parents/Children Aboard and Fare and a binary responce variable \"survived\"."
   ]
  },
  {
   "cell_type": "code",
   "execution_count": 16,
   "metadata": {
    "colab": {
     "base_uri": "https://localhost:8080/"
    },
    "id": "9R7iLX18hxem",
    "outputId": "3c8a580e-edc5-4619-8eaf-cb2ad47e3a62"
   },
   "outputs": [
    {
     "name": "stdout",
     "output_type": "stream",
     "text": [
      "--2022-02-10 23:46:43--  https://web.stanford.edu/class/archive/cs/cs109/cs109.1166/stuff/titanic.csv\n",
      "Résolution de web.stanford.edu (web.stanford.edu)… 171.67.215.200\n",
      "Connexion à web.stanford.edu (web.stanford.edu)|171.67.215.200|:443… connecté.\n",
      "requête HTTP transmise, en attente de la réponse… 200 OK\n",
      "Taille : 44225 (43K) [text/csv]\n",
      "Sauvegarde en : « titanic.csv.1 »\n",
      "\n",
      "titanic.csv.1       100%[===================>]  43,19K   166KB/s    ds 0,3s    \n",
      "\n",
      "2022-02-10 23:46:44 (166 KB/s) — « titanic.csv.1 » sauvegardé [44225/44225]\n",
      "\n"
     ]
    }
   ],
   "source": [
    "# Downloading the titanic dataset\n",
    "!wget https://web.stanford.edu/class/archive/cs/cs109/cs109.1166/stuff/titanic.csv"
   ]
  },
  {
   "cell_type": "markdown",
   "metadata": {
    "id": "OPi9VMPTM32q"
   },
   "source": [
    "#### Assignment a)"
   ]
  },
  {
   "cell_type": "code",
   "execution_count": 17,
   "metadata": {
    "colab": {
     "base_uri": "https://localhost:8080/"
    },
    "id": "Q_qVAI1Wh9Qm",
    "outputId": "c735057c-7ce1-4b19-99e1-82c8b4f8fe9a"
   },
   "outputs": [
    {
     "name": "stdout",
     "output_type": "stream",
     "text": [
      "     Survived  Pclass                                               Name  \\\n",
      "0           0       3                             Mr. Owen Harris Braund   \n",
      "1           1       1  Mrs. John Bradley (Florence Briggs Thayer) Cum...   \n",
      "2           1       3                              Miss. Laina Heikkinen   \n",
      "3           1       1        Mrs. Jacques Heath (Lily May Peel) Futrelle   \n",
      "4           0       3                            Mr. William Henry Allen   \n",
      "..        ...     ...                                                ...   \n",
      "882         0       2                               Rev. Juozas Montvila   \n",
      "883         1       1                        Miss. Margaret Edith Graham   \n",
      "884         0       3                     Miss. Catherine Helen Johnston   \n",
      "885         1       1                               Mr. Karl Howell Behr   \n",
      "886         0       3                                 Mr. Patrick Dooley   \n",
      "\n",
      "        Sex      Age  Siblings/Spouses Aboard  Parents/Children Aboard  \\\n",
      "0      male 22.00000                        1                        0   \n",
      "1    female 38.00000                        1                        0   \n",
      "2    female 26.00000                        0                        0   \n",
      "3    female 35.00000                        1                        0   \n",
      "4      male 35.00000                        0                        0   \n",
      "..      ...      ...                      ...                      ...   \n",
      "882    male 27.00000                        0                        0   \n",
      "883  female 19.00000                        0                        0   \n",
      "884  female  7.00000                        1                        2   \n",
      "885    male 26.00000                        0                        0   \n",
      "886    male 32.00000                        0                        0   \n",
      "\n",
      "        Fare  \n",
      "0    7.25000  \n",
      "1   71.28330  \n",
      "2    7.92500  \n",
      "3   53.10000  \n",
      "4    8.05000  \n",
      "..       ...  \n",
      "882 13.00000  \n",
      "883 30.00000  \n",
      "884 23.45000  \n",
      "885 30.00000  \n",
      "886  7.75000  \n",
      "\n",
      "[887 rows x 8 columns]\n"
     ]
    }
   ],
   "source": [
    "# ASSIGNMENT:\n",
    "# Load the data and get familiar with it \n",
    "\n",
    "df = pd.read_csv('titanic.csv')\n",
    "print(df)\n"
   ]
  },
  {
   "cell_type": "markdown",
   "metadata": {
    "id": "1VDou76wNrOZ"
   },
   "source": [
    "#### Assignment b)"
   ]
  },
  {
   "cell_type": "code",
   "execution_count": 18,
   "metadata": {
    "colab": {
     "base_uri": "https://localhost:8080/"
    },
    "id": "L74NoZY3iPSF",
    "outputId": "05dfbe01-1f0e-4732-a53f-bf1f1f2019bd"
   },
   "outputs": [
    {
     "name": "stdout",
     "output_type": "stream",
     "text": [
      "573 314\n"
     ]
    }
   ],
   "source": [
    "# ASSIGNMENT:\n",
    "# Count the number of males and females\n",
    "\n",
    "male, female = df['Sex'].value_counts()\n",
    "print(male, female)"
   ]
  },
  {
   "cell_type": "markdown",
   "metadata": {
    "id": "mO-L1rr2OFJm"
   },
   "source": [
    "#### Assignment c)"
   ]
  },
  {
   "cell_type": "code",
   "execution_count": 19,
   "metadata": {
    "colab": {
     "base_uri": "https://localhost:8080/"
    },
    "id": "WEuXIDGUiRLS",
    "outputId": "0e87e23c-1449-4e3a-d570-9ddce6a38672"
   },
   "outputs": [
    {
     "name": "stdout",
     "output_type": "stream",
     "text": [
      "mean: 32.31\n",
      "std: 49.78\n"
     ]
    }
   ],
   "source": [
    "# ASSIGNMENT:\n",
    "# Find the mean fare\n",
    "print(f\"mean: {df['Fare'].mean():.2f}\")\n",
    "\n",
    "# Find the standard deviation of the fare\n",
    "print(f\"std: {df['Fare'].std():.2f}\")"
   ]
  },
  {
   "cell_type": "markdown",
   "metadata": {
    "id": "cIKUqpcOSBqF"
   },
   "source": [
    "#### Assignment d)"
   ]
  },
  {
   "cell_type": "code",
   "execution_count": 20,
   "metadata": {
    "colab": {
     "base_uri": "https://localhost:8080/"
    },
    "id": "bgtS3DBJiT4-",
    "outputId": "dadbe531-9897-47ce-e0c8-bd61ed6c2bc0"
   },
   "outputs": [
    {
     "name": "stdout",
     "output_type": "stream",
     "text": [
      "545 342\n"
     ]
    }
   ],
   "source": [
    "# ASSIGNMENT:\n",
    "# Count how many survived (1) and how many died (0)\n",
    "\n",
    "died, survived = df['Survived'].value_counts()\n",
    "print(died, survived)"
   ]
  },
  {
   "cell_type": "markdown",
   "metadata": {
    "id": "iX4N-tncTGtT"
   },
   "source": [
    "#### Assignment e)"
   ]
  },
  {
   "cell_type": "code",
   "execution_count": 21,
   "metadata": {
    "colab": {
     "base_uri": "https://localhost:8080/"
    },
    "id": "ipRuo8s8iWD1",
    "outputId": "fc95f139-64d4-47b1-cd05-ef218462d9b6"
   },
   "outputs": [
    {
     "name": "stdout",
     "output_type": "stream",
     "text": [
      "233 109\n"
     ]
    }
   ],
   "source": [
    "# ASSIGNMENT:\n",
    "# count how many women and men survived\n",
    "\n",
    "survivedPeople = df[df['Survived'] == 1]\n",
    "survivedWomen, survivedMen = survivedPeople['Sex'].value_counts()\n",
    "print(survivedWomen, survivedMen)\n"
   ]
  },
  {
   "cell_type": "markdown",
   "metadata": {
    "id": "Aj62sNUqOyS4"
   },
   "source": [
    "#### Assignment f)"
   ]
  },
  {
   "cell_type": "code",
   "execution_count": 22,
   "metadata": {
    "id": "JolMP8qRPDL3"
   },
   "outputs": [
    {
     "name": "stdout",
     "output_type": "stream",
     "text": [
      "         Pclass       Age  Siblings/Spouses Aboard  Parents/Children Aboard  \\\n",
      "count 887.00000 887.00000                887.00000                887.00000   \n",
      "mean    2.30552  29.47144                  0.52537                  0.38331   \n",
      "std     0.83666  14.12191                  1.10467                  0.80747   \n",
      "min     1.00000   0.42000                  0.00000                  0.00000   \n",
      "25%     2.00000  20.25000                  0.00000                  0.00000   \n",
      "50%     3.00000  28.00000                  0.00000                  0.00000   \n",
      "75%     3.00000  38.00000                  1.00000                  0.00000   \n",
      "max     3.00000  80.00000                  8.00000                  6.00000   \n",
      "\n",
      "           Fare  \n",
      "count 887.00000  \n",
      "mean   32.30542  \n",
      "std    49.78204  \n",
      "min     0.00000  \n",
      "25%     7.92500  \n",
      "50%    14.45420  \n",
      "75%    31.13750  \n",
      "max   512.32920  \n",
      "\n",
      "count   887.00000\n",
      "mean      0.38557\n",
      "std       0.48700\n",
      "min       0.00000\n",
      "25%       0.00000\n",
      "50%       0.00000\n",
      "75%       1.00000\n",
      "max       1.00000\n",
      "Name: Survived, dtype: float64\n",
      "-------------\n",
      "            Age      Fare  Parents/Children Aboard    Pclass  \\\n",
      "count 887.00000 887.00000                887.00000 887.00000   \n",
      "mean    0.00000   0.00000                 -0.00000  -0.00000   \n",
      "std     1.00000   1.00000                  1.00000   1.00000   \n",
      "min    -2.05719  -0.64894                 -0.47471  -1.56040   \n",
      "25%    -0.65299  -0.48974                 -0.47471  -0.36517   \n",
      "50%    -0.10420  -0.35859                 -0.47471   0.83006   \n",
      "75%     0.60392  -0.02346                 -0.47471   0.83006   \n",
      "max     3.57803   9.64251                  6.95594   0.83006   \n",
      "\n",
      "       Siblings/Spouses Aboard  \n",
      "count                887.00000  \n",
      "mean                  -0.00000  \n",
      "std                    1.00000  \n",
      "min                   -0.47559  \n",
      "25%                   -0.47559  \n",
      "50%                   -0.47559  \n",
      "75%                    0.42966  \n",
      "max                    6.76640  \n"
     ]
    },
    {
     "name": "stderr",
     "output_type": "stream",
     "text": [
      "/var/folders/qs/9s0640m51y5fhftgg8ysvryh0000gn/T/ipykernel_8966/2397119901.py:18: FutureWarning: Dropping of nuisance columns in DataFrame reductions (with 'numeric_only=None') is deprecated; in a future version this will raise TypeError.  Select only valid columns before calling the reduction.\n",
      "  X = (X-X.mean())/X.std()\n"
     ]
    }
   ],
   "source": [
    "# ASSIGNMENT (1):\n",
    "# Separate the dataset from Titanic into X and y,\n",
    "# where y is the column Survived, and X is the rest.\n",
    "# Inspect the data. Look at for instance the function \"describe\" in pandas\n",
    "\n",
    "X = df.loc[:, 'Pclass':]\n",
    "y = df.loc[:, 'Survived']\n",
    "print(X.describe())\n",
    "print()\n",
    "print(y.describe())\n",
    "\n",
    "print('-------------')\n",
    "\n",
    "# ASSIGNMENT (2):\n",
    "# Standardize the data by subtracting the mean and dividing by the standard deviation.\n",
    "# Inpect the data again to see that the mean is (close to) zero and the standard deviation is one.\n",
    "\n",
    "X = (X-X.mean())/X.std()\n",
    "print(X.describe())\n"
   ]
  },
  {
   "cell_type": "markdown",
   "metadata": {
    "id": "mT_fgGFvDysx"
   },
   "source": [
    "## Matplotlib"
   ]
  },
  {
   "cell_type": "markdown",
   "metadata": {
    "id": "7UAp2tzMkH19"
   },
   "source": [
    "Matplotlib is a commonly used library for visualizing data in Python. Other visualization libraries exist for Python, such as seaborn, plotly, and more. Beyond the first practical notebook, we do not enforce any particular plotting library, but strongly encourage the use of Matplotlib. Below we will use the plotting functions inside of *matplotlib.pyplot*. You can read more about matplotlib [here](https://matplotlib.org/) and pyplot [here](https://matplotlib.org/api/_as_gen/matplotlib.pyplot.html#module-matplotlib.pyplot)."
   ]
  },
  {
   "cell_type": "markdown",
   "metadata": {
    "id": "LFPDRxqfTi_a"
   },
   "source": [
    "### Examples"
   ]
  },
  {
   "cell_type": "code",
   "execution_count": 23,
   "metadata": {
    "id": "T7dy6XwKDwQ7"
   },
   "outputs": [],
   "source": [
    "# import the relevant libraries\n",
    "import matplotlib.pyplot as plt\n",
    "import numpy as np"
   ]
  },
  {
   "cell_type": "markdown",
   "metadata": {
    "id": "scDiY0f0kRP2"
   },
   "source": [
    "We will start by looking at some small lists."
   ]
  },
  {
   "cell_type": "code",
   "execution_count": 24,
   "metadata": {
    "colab": {
     "base_uri": "https://localhost:8080/",
     "height": 295
    },
    "id": "6v_Nv3X0kQjH",
    "outputId": "a9843cea-0e89-480b-ac17-cd9bab070ee8"
   },
   "outputs": [
    {
     "data": {
      "image/png": "[encoded data removed]",
      "text/plain": [
       "<Figure size 432x288 with 1 Axes>"
      ]
     },
     "metadata": {
      "needs_background": "light"
     },
     "output_type": "display_data"
    }
   ],
   "source": [
    "# examples of some datapoint\n",
    "x = [1,2,3,4]\n",
    "y = [2,3.5,7,8.2]\n",
    "\n",
    "# plotting the data using matplotlib.pyplot.plot\n",
    "plt.plot(x, y)\n",
    "\n",
    "# It is important to add labels for the axes and a title\n",
    "plt.xlabel(\"x\")\n",
    "plt.ylabel(\"y\")\n",
    "plt.title(\"Plotting with matplotlib\")\n",
    "# and always end with show(), which will show you the plot.\n",
    "plt.show()"
   ]
  },
  {
   "cell_type": "markdown",
   "metadata": {
    "id": "34W7sZMqjVDe"
   },
   "source": [
    "Plots can also be below each other, or side by side by using [subplot](https://matplotlib.org/3.3.3/api/_as_gen/matplotlib.pyplot.subplot.html)."
   ]
  },
  {
   "cell_type": "code",
   "execution_count": 25,
   "metadata": {
    "colab": {
     "base_uri": "https://localhost:8080/",
     "height": 302
    },
    "id": "65GoJL1MV-Gs",
    "outputId": "94355c6b-cadd-4230-a578-5764a0755ba2"
   },
   "outputs": [
    {
     "data": {
      "image/png": "[encoded data removed]",
      "text/plain": [
       "<Figure size 432x288 with 2 Axes>"
      ]
     },
     "metadata": {
      "needs_background": "light"
     },
     "output_type": "display_data"
    }
   ],
   "source": [
    "# Vertical subplot\n",
    "\n",
    "plt.style.use('bmh')\n",
    "\n",
    "t = np.arange(0.0, 1.0, 0.01)\n",
    "sin = np.sin(2*np.pi*t)\n",
    "cos = np.cos(2*np.pi*t)\n",
    "\n",
    "fig = plt.figure()\n",
    "fig.suptitle(\"Sine and cosine for different t\", fontsize=18)\n",
    "\n",
    "ax1 = fig.add_subplot(2,1,1)\n",
    "ax1.plot(t, sin, color='red', lw=2)\n",
    "ax1.set_ylabel('Amplitude')\n",
    "ax1.set_xlabel('Time')\n",
    "ax1.set_title('Sine wave')\n",
    "\n",
    "ax2 = fig.add_subplot(2,1,2)\n",
    "ax2.plot(t, cos)\n",
    "ax2.set_ylabel('Amplitude')\n",
    "ax2.set_xlabel('Time')\n",
    "ax2.set_title('Cosine wave')\n",
    "\n",
    "fig.tight_layout() # comment out this line to see the difference\n",
    "fig.subplots_adjust(top=0.85)\n",
    "plt.show()"
   ]
  },
  {
   "cell_type": "code",
   "execution_count": 26,
   "metadata": {
    "colab": {
     "base_uri": "https://localhost:8080/",
     "height": 302
    },
    "id": "DXr8cax6UnTi",
    "outputId": "57fed1f1-1685-41d4-d7bf-866b4fab1ccf"
   },
   "outputs": [
    {
     "data": {
      "image/png": "[encoded data removed]",
      "text/plain": [
       "<Figure size 432x288 with 2 Axes>"
      ]
     },
     "metadata": {
      "needs_background": "light"
     },
     "output_type": "display_data"
    }
   ],
   "source": [
    "# Horizontal subplot\n",
    "\n",
    "plt.style.use('bmh')\n",
    "\n",
    "t = np.arange(0.0, 1.0, 0.01)\n",
    "sin = np.sin(2*np.pi*t)\n",
    "cos = np.cos(2*np.pi*t)\n",
    "\n",
    "fig = plt.figure()\n",
    "fig.suptitle(\"Sine and cosine for different t\", fontsize=18)\n",
    "\n",
    "ax1 = fig.add_subplot(1,2,1)  # we have changed (2,1,1) to (1,2,1)\n",
    "ax1.plot(t, sin, color='red', lw=2)\n",
    "ax1.set_ylabel('Amplitude')\n",
    "ax1.set_xlabel('Time')\n",
    "ax1.set_title('Sine wave')\n",
    "\n",
    "ax2 = fig.add_subplot(1,2,2)  # we have changed (2,1,2) to (1,2,2)\n",
    "ax2.plot(t, cos)\n",
    "ax2.set_ylabel('Amplitude')\n",
    "ax2.set_xlabel('Time')\n",
    "ax2.set_title('Cosine wave')\n",
    "\n",
    "fig.tight_layout() # comment out this line to see the difference\n",
    "fig.subplots_adjust(top=0.85)\n",
    "plt.show()"
   ]
  },
  {
   "cell_type": "markdown",
   "metadata": {
    "id": "UW0Yy4f3jcZt"
   },
   "source": [
    "And with different stylings"
   ]
  },
  {
   "cell_type": "code",
   "execution_count": 27,
   "metadata": {
    "colab": {
     "base_uri": "https://localhost:8080/"
    },
    "id": "tg44jB-0jbqa",
    "outputId": "946fa6ce-2c2b-4018-b33c-835c96bcc0db"
   },
   "outputs": [
    {
     "data": {
      "text/plain": [
       "['Solarize_Light2',\n",
       " '_classic_test_patch',\n",
       " 'bmh',\n",
       " 'classic',\n",
       " 'dark_background',\n",
       " 'fast',\n",
       " 'fivethirtyeight',\n",
       " 'ggplot',\n",
       " 'grayscale',\n",
       " 'seaborn',\n",
       " 'seaborn-bright',\n",
       " 'seaborn-colorblind',\n",
       " 'seaborn-dark',\n",
       " 'seaborn-dark-palette',\n",
       " 'seaborn-darkgrid',\n",
       " 'seaborn-deep',\n",
       " 'seaborn-muted',\n",
       " 'seaborn-notebook',\n",
       " 'seaborn-paper',\n",
       " 'seaborn-pastel',\n",
       " 'seaborn-poster',\n",
       " 'seaborn-talk',\n",
       " 'seaborn-ticks',\n",
       " 'seaborn-white',\n",
       " 'seaborn-whitegrid',\n",
       " 'tableau-colorblind10']"
      ]
     },
     "execution_count": 27,
     "metadata": {},
     "output_type": "execute_result"
    }
   ],
   "source": [
    "# Here are all the different \"pre-configured\" styles matplot lib supports\n",
    "# https://matplotlib.org/tutorials/intermediate/artists.html#sphx-glr-tutorials-intermediate-artists-py \n",
    "plt.style.available"
   ]
  },
  {
   "cell_type": "markdown",
   "metadata": {
    "id": "Je6jHfmCWj7l"
   },
   "source": [
    "The plotts can also be both below each other and side by side at the same time (as a matrix) as you can see below. Here we have also plotted two graphs together in every figure, and added a color and a label for each one of them."
   ]
  },
  {
   "cell_type": "code",
   "execution_count": 28,
   "metadata": {
    "colab": {
     "base_uri": "https://localhost:8080/",
     "height": 302
    },
    "id": "X9pj2gkhjT8P",
    "outputId": "ac6fa739-6455-4eff-a86d-e89c9be1ab98"
   },
   "outputs": [
    {
     "data": {
      "image/png": "[encoded data removed]",
      "text/plain": [
       "<Figure size 432x288 with 6 Axes>"
      ]
     },
     "metadata": {
      "needs_background": "light"
     },
     "output_type": "display_data"
    }
   ],
   "source": [
    "# Matrix subplot\n",
    "\n",
    "fig = plt.figure()\n",
    "fig.suptitle(\"Sine and cosine for different t\", fontsize=18)\n",
    "\n",
    "i = 1\n",
    "for freq in [1, 2, 3]:\n",
    "  for t_max in [1, 2]:\n",
    "    t = np.arange(0.0, t_max, 0.01)\n",
    "    sin = np.sin(2*freq*np.pi*t)\n",
    "    cos = np.cos(2*freq*np.pi*t)\n",
    "\n",
    "    ax = fig.add_subplot(3,2,i)\n",
    "    ax.plot(t, sin, color='red', lw=2, label='sine')\n",
    "    ax.plot(t, cos, color='blue', lw=2, label='cosine')\n",
    "    ax.set_ylabel('Amplitude')\n",
    "    ax.set_xlabel('Time')\n",
    "    ax.legend(fontsize=6)\n",
    "    ax.set_title(f'freq = {freq}', fontsize=10)\n",
    "    i += 1\n",
    "\n",
    "fig.tight_layout() # comment out this line to see the difference\n",
    "fig.subplots_adjust(top=0.85)\n",
    "plt.show()"
   ]
  },
  {
   "cell_type": "markdown",
   "metadata": {
    "id": "O9IoXXvHn9h1"
   },
   "source": [
    "### Plotting data from Pandas"
   ]
  },
  {
   "cell_type": "markdown",
   "metadata": {
    "id": "s2tbiP4VkTMP"
   },
   "source": [
    "Now we will plot some of the datapoints from the titanic dataset to visualize it."
   ]
  },
  {
   "cell_type": "code",
   "execution_count": 29,
   "metadata": {
    "colab": {
     "base_uri": "https://localhost:8080/"
    },
    "id": "Z8oseI6goJrG",
    "outputId": "2e95a100-4a0d-41d8-c67d-94dc8bb1fa14"
   },
   "outputs": [
    {
     "name": "stdout",
     "output_type": "stream",
     "text": [
      "--2022-02-10 23:46:48--  https://web.stanford.edu/class/archive/cs/cs109/cs109.1166/stuff/titanic.csv\n",
      "Résolution de web.stanford.edu (web.stanford.edu)… 171.67.215.200\n",
      "Connexion à web.stanford.edu (web.stanford.edu)|171.67.215.200|:443… connecté.\n",
      "requête HTTP transmise, en attente de la réponse… 200 OK\n",
      "Taille : 44225 (43K) [text/csv]\n",
      "Sauvegarde en : « titanic.csv.2 »\n",
      "\n",
      "titanic.csv.2       100%[===================>]  43,19K   209KB/s    ds 0,2s    \n",
      "\n",
      "2022-02-10 23:46:49 (209 KB/s) — « titanic.csv.2 » sauvegardé [44225/44225]\n",
      "\n"
     ]
    }
   ],
   "source": [
    "# Downloading the titanic dataset\n",
    "!wget https://web.stanford.edu/class/archive/cs/cs109/cs109.1166/stuff/titanic.csv"
   ]
  },
  {
   "cell_type": "code",
   "execution_count": 30,
   "metadata": {
    "id": "__TnMtLroLhE"
   },
   "outputs": [],
   "source": [
    "# Load the titanic dataset for plotting\n",
    "import pandas as pd\n",
    "df = pd.read_csv('titanic.csv')"
   ]
  },
  {
   "cell_type": "markdown",
   "metadata": {
    "id": "pTJ5-6q4XMf4"
   },
   "source": [
    "#### Assignment g)"
   ]
  },
  {
   "cell_type": "code",
   "execution_count": 31,
   "metadata": {
    "colab": {
     "base_uri": "https://localhost:8080/",
     "height": 296
    },
    "id": "gib9ZRyCkdfx",
    "outputId": "a4142bbd-8c6c-4369-ddc8-32522637f7d6"
   },
   "outputs": [
    {
     "name": "stdout",
     "output_type": "stream",
     "text": [
      "           Fare\n",
      "Pclass         \n",
      "1      84.15469\n",
      "2      20.66218\n",
      "3      13.70771\n"
     ]
    }
   ],
   "source": [
    "# ASSIGNMENT:\n",
    "# compare the fare with the class of the ticket\n",
    "\n",
    "fare_per_pclass = df[['Pclass', 'Fare']].groupby(['Pclass']).mean()\n",
    "print(fare_per_pclass)"
   ]
  },
  {
   "cell_type": "markdown",
   "metadata": {
    "id": "9MZmF6eiZG27"
   },
   "source": [
    "#### Assignment h)"
   ]
  },
  {
   "cell_type": "markdown",
   "metadata": {
    "id": "renFog3zkmkR"
   },
   "source": [
    "It might also be a good idea to plot a histogram over the data, to get a better understanding of how the data looks. This can be done using the function *hist* from matplotlib."
   ]
  },
  {
   "cell_type": "code",
   "execution_count": 32,
   "metadata": {
    "colab": {
     "base_uri": "https://localhost:8080/",
     "height": 296
    },
    "id": "ZQupTlOIko7r",
    "outputId": "9d8f109e-bef7-4322-a334-727c738bbdfc"
   },
   "outputs": [
    {
     "data": {
      "image/png": "[encoded data removed]",
      "text/plain": [
       "<Figure size 432x288 with 1 Axes>"
      ]
     },
     "metadata": {
      "needs_background": "light"
     },
     "output_type": "display_data"
    }
   ],
   "source": [
    "fare = df[\"Fare\"]\n",
    "plt.hist(fare)\n",
    "plt.xlabel(\"Fare\")\n",
    "plt.title(\"Visualizaion of the fare difference\")\n",
    "plt.show()"
   ]
  },
  {
   "cell_type": "markdown",
   "metadata": {
    "id": "X7RJMmLzX8LJ"
   },
   "source": [
    "As you can see, most of the people paid less than 150 for the ticket."
   ]
  },
  {
   "cell_type": "code",
   "execution_count": 33,
   "metadata": {
    "colab": {
     "base_uri": "https://localhost:8080/",
     "height": 296
    },
    "id": "ClH6CmejYLQm",
    "outputId": "18c2e5b6-374d-4791-bce6-36c6f06b95d0"
   },
   "outputs": [
    {
     "data": {
      "image/png": "[encoded data removed]",
      "text/plain": [
       "<Figure size 432x288 with 1 Axes>"
      ]
     },
     "metadata": {
      "needs_background": "light"
     },
     "output_type": "display_data"
    }
   ],
   "source": [
    "# ASSIGNMENT:\n",
    "# Plot a histogram over the people who paid less than, or equal to, 150.\n",
    "\n",
    "fare = df[df['Fare'] <= 150]['Fare']\n",
    "plt.hist(fare)\n",
    "plt.xlabel(\"Fare\")\n",
    "plt.title(\"Visualizaion of the fare difference for fare <= 150\")\n",
    "plt.show()"
   ]
  },
  {
   "cell_type": "markdown",
   "metadata": {
    "id": "ruBS3rYnYdRN"
   },
   "source": [
    "#### Assignment i)"
   ]
  },
  {
   "cell_type": "code",
   "execution_count": 34,
   "metadata": {
    "colab": {
     "base_uri": "https://localhost:8080/",
     "height": 296
    },
    "id": "yzzWhLElksr0",
    "outputId": "7018a4b4-c0f6-49d0-93db-3ffaf5e99f20"
   },
   "outputs": [
    {
     "data": {
      "text/plain": [
       "<function matplotlib.pyplot.show(close=None, block=None)>"
      ]
     },
     "execution_count": 34,
     "metadata": {},
     "output_type": "execute_result"
    },
    {
     "data": {
      "image/png": "[encoded data removed]",
      "text/plain": [
       "<Figure size 432x288 with 1 Axes>"
      ]
     },
     "metadata": {
      "needs_background": "light"
     },
     "output_type": "display_data"
    }
   ],
   "source": [
    "# ASSIGNMENT:\n",
    "# plot a histogram over all the ages with 20 bins. Draw a vertical line at the mean age.\n",
    "\n",
    "age = df['Age']\n",
    "plt.hist(age, bins=np.arange(0, 100, 5))\n",
    "plt.axvline(age.mean(), color='red')\n",
    "plt.xlabel('Age')\n",
    "plt.title('Visualization of the age difference')\n",
    "plt.show"
   ]
  },
  {
   "cell_type": "markdown",
   "metadata": {
    "id": "GRvH4bEzY4gW"
   },
   "source": [
    "#### Assignment j)"
   ]
  },
  {
   "cell_type": "markdown",
   "metadata": {
    "id": "Zz0xnlc8kunQ"
   },
   "source": [
    "Sometimes it is better to plot the figures together in one figure instead. This can be done with subplot, as shown in the examples above."
   ]
  },
  {
   "cell_type": "code",
   "execution_count": 35,
   "metadata": {
    "colab": {
     "base_uri": "https://localhost:8080/",
     "height": 302
    },
    "id": "eJSZ_CsLkxig",
    "outputId": "ca12e7dd-42c2-46d0-a643-be0a58573721"
   },
   "outputs": [
    {
     "data": {
      "text/plain": [
       "Text(0.5, 0, 'Age')"
      ]
     },
     "execution_count": 35,
     "metadata": {},
     "output_type": "execute_result"
    },
    {
     "data": {
      "image/png": "[encoded data removed]",
      "text/plain": [
       "<Figure size 432x288 with 3 Axes>"
      ]
     },
     "metadata": {
      "needs_background": "light"
     },
     "output_type": "display_data"
    }
   ],
   "source": [
    "# ASSIGNMENT:\n",
    "# Make a subplot over the Fare, Class, and Age\n",
    "\n",
    "fig = plt.figure()\n",
    "\n",
    "ax1 = fig.add_subplot(1, 3, 1)\n",
    "ax1.hist(fare)\n",
    "ax1.set_xlabel('Fare')\n",
    "\n",
    "ax2 = fig.add_subplot(1, 3, 2)\n",
    "ax2.hist(df['Pclass'], bins=3)\n",
    "ax2.set_xlabel('Class')\n",
    "\n",
    "ax3 = fig.add_subplot(1, 3, 3)\n",
    "ax3.hist(age)\n",
    "ax3.set_xlabel('Age')"
   ]
  },
  {
   "cell_type": "markdown",
   "metadata": {
    "id": "iszMf9K4aN6Y"
   },
   "source": [
    "#### Assignment k)"
   ]
  },
  {
   "cell_type": "markdown",
   "metadata": {
    "id": "4ImUP2JCZzKh"
   },
   "source": [
    "Now we want to compare the fare and class, as we did before, but this time we want to divide them into two colors, depending on if they survived or not."
   ]
  },
  {
   "cell_type": "code",
   "execution_count": 36,
   "metadata": {
    "colab": {
     "base_uri": "https://localhost:8080/",
     "height": 296
    },
    "id": "j7hfWvEak1Mo",
    "outputId": "fdc0f4d6-0768-4ca0-8a02-b5b177842afd"
   },
   "outputs": [
    {
     "data": {
      "image/png": "[encoded data removed]",
      "text/plain": [
       "<Figure size 432x288 with 1 Axes>"
      ]
     },
     "metadata": {
      "needs_background": "light"
     },
     "output_type": "display_data"
    }
   ],
   "source": [
    "# ASSIGNMENT:\n",
    "# Make a plot with red dots for all the people who died, and blue dots for the people who survived.\n",
    "\n",
    "dead = df[(df['Survived'] == 0) & (df['Fare'] <= 150)]\n",
    "survived = df[(df['Survived'] == 1) & (df['Fare'] <= 150)]\n",
    "survived = survived[survived['Fare'] <= 150]\n",
    "plt.scatter(dead['Fare'], dead['Pclass'], color='red')\n",
    "plt.scatter(survived['Fare'], survived['Pclass'], color='blue')\n",
    "\n",
    "plt.show()\n",
    "\n"
   ]
  },
  {
   "cell_type": "markdown",
   "metadata": {
    "id": "Qti35zoTa6x0"
   },
   "source": [
    "#### Assignment l)"
   ]
  },
  {
   "cell_type": "markdown",
   "metadata": {
    "id": "Mz9hJK5wa9dY"
   },
   "source": [
    "It might also be interesting to visualize how many of the men and women survived. This can be done with the bar function, which will be given to you."
   ]
  },
  {
   "cell_type": "code",
   "execution_count": 39,
   "metadata": {
    "colab": {
     "base_uri": "https://localhost:8080/",
     "height": 262
    },
    "id": "z_nEDn_rbBPK",
    "outputId": "2e9c4db3-6ddf-4d61-e4a7-2875de198913"
   },
   "outputs": [
    {
     "data": {
      "image/png": "[encoded data removed]",
      "text/plain": [
       "<Figure size 432x288 with 1 Axes>"
      ]
     },
     "metadata": {
      "needs_background": "light"
     },
     "output_type": "display_data"
    }
   ],
   "source": [
    "# ASSIGNMENT:\n",
    "# Calculate how many women and men died and survived.\n",
    "\n",
    "# female_survived, male_survived = df[(df['Sex'] == 'female') & (df['Survived'] == 1)], df[(df['Sex'] == 'male') & (df['Survived'] == 1)]\n",
    "female_survived, male_survived = len(df[(df['Survived'] == 1) & (df['Sex'] == 'female')]),len(df[(df['Survived'] == 1) & (df['Sex'] == 'male')])\n",
    "female_died, male_died = len(df[(df['Survived'] == 0) & (df['Sex'] == 'female')]),len(df[(df['Survived'] == 0) & (df['Sex'] == 'male')])\n",
    "\n",
    "plt.bar([0.9,1.9], [female_survived, male_survived] , color='c', label='survived', width=0.2, alpha=0.3)\n",
    "plt.bar([1.1, 2.1], [female_died, male_died] , color='r', label='died', width=0.2, alpha=0.3)\n",
    "plt.xticks([1,2], ['Female','Male'])\n",
    "plt.legend()\n",
    "plt.show()"
   ]
  },
  {
   "cell_type": "code",
   "execution_count": null,
   "metadata": {
    "id": "Hgqiacy6gU7u"
   },
   "outputs": [],
   "source": [
    "### (Optional) Ploting a  histogram of a random distribution"
   ]
  },
  {
   "cell_type": "markdown",
   "metadata": {
    "id": "OmQNK4-siyps"
   },
   "source": [
    "OPTIONAL:  \n",
    "Plotting a Histogram of Random values\n",
    "\n",
    "Your task is to generate 10000 random numbers that follows the normal distribution, with a mean, $\\mu = 1$, and variance $\\sigma^2 = 0.25$. \n",
    "\n",
    "Plot the **normalized** histogram with 50 bars and a contour plot.   "
   ]
  },
  {
   "cell_type": "code",
   "execution_count": null,
   "metadata": {
    "colab": {
     "base_uri": "https://localhost:8080/",
     "height": 282
    },
    "id": "oLvkIjmvpP0Y",
    "outputId": "f33c0f17-f941-4c83-ae84-66189400a09f"
   },
   "outputs": [],
   "source": [
    "import numpy as np\n",
    "import matplotlib.pyplot as plt\n",
    "\n",
    "plt.style.use('ggplot')\n",
    "np.random.seed(42)\n",
    "\n",
    "# OPTIONAL ASSIGNMENT:\n",
    "# Draw 10000 random values from a normal distribution with:\n",
    "#   mu = 1, sigma2 = 0.25\n",
    "#  \n",
    "# Plot the histogram and cumulative distribution \n",
    "\n",
    "\n",
    "# YOUR CODE HERE\n",
    "\n",
    "plt.show()"
   ]
  }
 ],
 "metadata": {
  "colab": {
   "collapsed_sections": [
    "LFPDRxqfTi_a"
   ],
   "name": "PracticalNotebook2.ipynb",
   "provenance": []
  },
  "kernelspec": {
   "display_name": "Python 3",
   "language": "python",
   "name": "python3"
  },
  "language_info": {
   "codemirror_mode": {
    "name": "ipython",
    "version": 3
   },
   "file_extension": ".py",
   "mimetype": "text/x-python",
   "name": "python",
   "nbconvert_exporter": "python",
   "pygments_lexer": "ipython3",
   "version": "3.8.9"
  }
 },
 "nbformat": 4,
 "nbformat_minor": 1
}
